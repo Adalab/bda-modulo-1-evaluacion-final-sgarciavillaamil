{
 "cells": [
  {
   "cell_type": "markdown",
   "metadata": {},
   "source": []
  },
  {
   "cell_type": "code",
   "execution_count": 195,
   "metadata": {},
   "outputs": [],
   "source": [
    "class TiendaOnLine:\n",
    "\n",
    "    #Clase que gestiona una tienda on line. Tiene un inventario, clientes y ventas.\n",
    "    \n",
    "    def __init__(self):\n",
    "\n",
    "        self.inventario = [] #Lista de diccionarios. Por ejemplo: producto1= {nombre, precio, cantidad}\n",
    "        self.clientes = {} # Diccionario de clientes. Por ejemplo: cliente1 = {'Cliente1': {'email': 'cliente1@email.com', 'compras': []}}\n",
    "        self.ventas_totales = 0.0\n",
    "\n",
    "    def agregar_producto(self, nombre, precio, cantidad):\n",
    "\n",
    "        # Agrega productos al inventario.\n",
    "        \n",
    "        nuevo_producto = {\"nombre\": nombre, \"precio\": precio, \"cantidad\": cantidad}\n",
    "        \n",
    "        for producto in self.inventario:\n",
    "            \n",
    "            nombre_producto = producto[\"nombre\"]\n",
    "          \n",
    "            if nombre.lower == nombre_producto.lower:\n",
    "                producto[cantidad] += producto[cantidad]               \n",
    "                return            \n",
    "        \n",
    "        self.inventario.append(nuevo_producto)                \n",
    "    \n",
    "    def ver_inventario(self):\n",
    "\n",
    "        # Nos permite ver el inventario.\n",
    "        # Nos devuelve el nombre del producto en mayúsculas, independientemente de como se ha dado de alta el producto. \n",
    "         \n",
    "        for producto in self.inventario:\n",
    "\n",
    "            nombre_producto = producto[\"nombre\"].capitalize()\n",
    "            precio_producto = producto[\"precio\"]\n",
    "            cantidad_producto = producto[\"cantidad\"]\n",
    "\n",
    "            print(f\"Nombre: {nombre_producto}, Precio: ${precio_producto}, Cantidad: {cantidad_producto}\")\n",
    "            \n",
    "    \n",
    "    def buscar_producto(self, nombre):\n",
    "\n",
    "        #Busca un producto por su nombre y lo muestra.\n",
    "                      \n",
    "        for producto in self.inventario:\n",
    "            \n",
    "            if producto['nombre'].lower() == nombre.lower():\n",
    "\n",
    "                nombre_producto = producto[\"nombre\"]\n",
    "                precio_producto = producto[\"precio\"]\n",
    "                cantidad_producto = producto[\"cantidad\"]\n",
    "                \n",
    "                print(f\"Nombre: {nombre_producto}, Precio: ${precio_producto}, Cantidad: {cantidad_producto}\") \n",
    "                return\n",
    "            \n",
    "        print(f\"El producto '{nombre}' no está a la venta en nuestra tienda\")\n",
    "\n",
    "\n",
    "    def actualizar_stock(self, nombre, cantidad):\n",
    "\n",
    "        #Actualiza el stock de un producto en el inventario. Si no está en el inventario devuelve un mensaje indicándolo. \n",
    "\n",
    "        for producto in self.inventario:\n",
    "\n",
    "            if producto['nombre'].lower() == nombre.lower():\n",
    "\n",
    "                producto[\"cantidad\"] += cantidad\n",
    "                return\n",
    "        \n",
    "        print(f\"El producto '{nombre}' no está actualmente dado de alta en el inventario\")\n",
    "\n",
    "\n",
    "    def eliminar_producto(self, nombre):\n",
    "\n",
    "        #Elimina un producto dentro del inventario.\n",
    "                \n",
    "        for producto in self.inventario:\n",
    "           \n",
    "            if producto[\"nombre\"].lower() == nombre.lower():\n",
    "               \n",
    "                self.inventario.remove(producto)\n",
    "                return\n",
    "            \n",
    "        print(f\"El producto '{nombre}' no está actualmente dado de alta en el inventario\")\n",
    "                \n",
    "\n",
    "    def calcular_valor_inventario(self):\n",
    "\n",
    "        #Calcula el valor del inventario de la tienda.\n",
    "        valor_inventario = 0.0\n",
    "\n",
    "        for producto in self.inventario:\n",
    "\n",
    "            precio_producto = producto[\"precio\"]\n",
    "            cantidad_producto = producto[\"cantidad\"]\n",
    "            \n",
    "            valor_inventario += precio_producto * cantidad_producto\n",
    "\n",
    "        print(valor_inventario)\n",
    "\n",
    "    \n",
    "    def realizar_compra(self):\n",
    "\n",
    "        #Permite al cliente realizar una compra, seleccionando productos del inventario que se le mostrarán al cliente.\n",
    "        #El carro de la compra es un diccionario vacío.\n",
    "\n",
    "        carro_compra = {} \n",
    "        coste_compra = 0.0    \n",
    "        salir_proceso_compra = False # Variable booleana para salir del proceso de compra.\n",
    "      \n",
    "        print(\"¡Bienvenid@ a la tienda!. A continuación le mostramos nuestro inventario.\")\n",
    "        \n",
    "        self.ver_inventario()\n",
    "\n",
    "        while not salir_proceso_compra:\n",
    "\n",
    "            nombre_producto_carro = input(\"Dime el nombre del producto que quieres comprar. Cuando no quieras mas escribe 'Salir'\")\n",
    "            \n",
    "            if nombre_producto_carro.lower () == \"salir\":                \n",
    "                salir_proceso_compra = True\n",
    "                continue           \n",
    "            else:\n",
    "\n",
    "                existe_producto = False  # Variable  booleana para el caso de que no exista el producto.\n",
    "                cantidad_producto_carro = int(input(\"Dime la cantidad del producto que quieres comprar.\"))                      \n",
    "\n",
    "                for producto_inventario in self.inventario:  \n",
    "\n",
    "                    if producto_inventario[\"nombre\"].lower() == nombre_producto_carro.lower(): \n",
    "\n",
    "                        existe_producto = True\n",
    "                        precio_producto_carro = producto_inventario[\"precio\"]\n",
    "\n",
    "                        if cantidad_producto_carro > producto_inventario[\"cantidad\"] or producto_inventario[\"cantidad\"] == 0:\n",
    "                            print(\"No hay stock suficiente o no existe en stock.\")                           \n",
    "                        else:\n",
    "\n",
    "                            if nombre_producto_carro.lower() not in carro_compra:\n",
    "                                carro_compra[nombre_producto_carro.lower()] = { \"nombre\": nombre_producto_carro, \"cantidad\": cantidad_producto_carro, \"precio\": precio_producto_carro } \n",
    "                                producto_inventario[\"cantidad\"] -= cantidad_producto_carro\n",
    "                            #Se añade el producto al carro de la compra y se actualiza el inventario.\n",
    "                            else:\n",
    "                                print(\"Ya has comprado ese producto.\") #Si el producto ya está en el carro, no se puede volver a incorporar y sale un mensaje. \n",
    "\n",
    "                            print(f\"Carro Compra: {carro_compra}\") # Muestra el carro de la compra.\n",
    "                            \n",
    "                            coste_compra = self.calcular_coste_compra(carro_compra) #Creo una función para calcular el coste de la compra.\n",
    "                            print(f\"Valor de la compra: {coste_compra} \")\n",
    "                            \n",
    "                        break  \n",
    "\n",
    "                if not existe_producto:\n",
    "                    print(\"El producto no se ha encontrado en el inventario.\")\n",
    "\n",
    "        print(\"Has abandonado el proceso de compra.\")\n",
    "\n",
    "    def calcular_coste_compra(self, carro):  #Función para calcular el coste de la compra.\n",
    "       \n",
    "        total = 0.0\n",
    "        \n",
    "        for detalles in carro.values():  \n",
    "            cantidad = detalles[\"cantidad\"]\n",
    "            precio = detalles[\"precio\"]\n",
    "            total += cantidad * precio\n",
    "\n",
    "        return total\n",
    "    \n",
    "    def procesar_pago(self):\n",
    "\n",
    "    #Procesa un pago solicitado al cliente, calcula el cambio y traslada errores.\n",
    "        \n",
    "        try:\n",
    "            cantidad_a_pagar = float(input(\"¿Cuanto tienes que pagar?\"))\n",
    "\n",
    "            if cantidad_a_pagar < 0:\n",
    "                raise ValueError(\"La cantidad a pagar no es correcta\")\n",
    "\n",
    "            cantidad_entregada = float(input(\"¿Cuanto dinero me vas a dar para pagar?\"))\n",
    "        \n",
    "            if cantidad_entregada < 0: \n",
    "                raise ValueError(\"La cantidad entregada no es correcta\")\n",
    "            \n",
    "            cambio = cantidad_entregada - cantidad_a_pagar\n",
    "   \n",
    "            if cambio < 0:\n",
    "                raise ValueError(\"La cantidad entregada para realizar el pago es insuficiente\")\n",
    "            else: \n",
    "                print(f\"Su cambio es ${cambio}. El pago se ha realizado con éxito. Muchas gracias.\") \n",
    "        \n",
    "        except ValueError as error:\n",
    "                print(f\"Error:{error}\")\n",
    "\n",
    "    def agregar_cliente(self, nombre, email):\n",
    "\n",
    "        if nombre.lower() in self.clientes: \n",
    "            print(f\"El cliente {nombre} ya está registrado\")\n",
    "        else: \n",
    "            self.clientes[nombre.lower()] = {\"email\": email, \"compras\": []}\n",
    "\n",
    "    def ver_clientes(self):\n",
    "\n",
    "        for nombre, info in self.clientes.items():\n",
    "            print(f\"Nombre: {nombre.title()}, Email: {info[\"email\"]}\")       \n",
    "    "
   ]
  },
  {
   "cell_type": "code",
   "execution_count": 211,
   "metadata": {},
   "outputs": [],
   "source": [
    "tienda = TiendaOnLine()\n",
    "\n",
    "tienda.agregar_producto(\"Camisa\", 40, 20)\n",
    "tienda.agregar_producto(\"Camiseta\", 20, 70)\n",
    "tienda.agregar_producto(\"Pantalon\", 35, 40)\n",
    "tienda.agregar_producto(\"Calcetin\", 15, 20)\n",
    "tienda.agregar_producto(\"Corbata\", 32.50, 10)\n"
   ]
  },
  {
   "cell_type": "code",
   "execution_count": 120,
   "metadata": {},
   "outputs": [
    {
     "name": "stdout",
     "output_type": "stream",
     "text": [
      "Nombre: Camisa, Precio: $40, Cantidad: 20\n",
      "Nombre: Camiseta, Precio: $20, Cantidad: 70\n",
      "Nombre: Pantalon, Precio: $35, Cantidad: 40\n",
      "Nombre: Calcetin, Precio: $15, Cantidad: 20\n",
      "Nombre: Corbata, Precio: $32.5, Cantidad: 10\n"
     ]
    }
   ],
   "source": [
    "tienda.ver_inventario()"
   ]
  },
  {
   "cell_type": "code",
   "execution_count": 108,
   "metadata": {},
   "outputs": [
    {
     "name": "stdout",
     "output_type": "stream",
     "text": [
      "Nombre: Pantalon, Precio: $35, Cantidad: 40\n"
     ]
    }
   ],
   "source": [
    "tienda.buscar_producto(\"pantalon\")"
   ]
  },
  {
   "cell_type": "code",
   "execution_count": 121,
   "metadata": {},
   "outputs": [
    {
     "name": "stdout",
     "output_type": "stream",
     "text": [
      "Nombre: Camisa, Precio: $40, Cantidad: 20\n",
      "Nombre: Camiseta, Precio: $20, Cantidad: 70\n",
      "Nombre: Pantalon, Precio: $35, Cantidad: 40\n",
      "Nombre: Calcetin, Precio: $15, Cantidad: 25\n",
      "Nombre: Corbata, Precio: $32.5, Cantidad: 10\n"
     ]
    }
   ],
   "source": [
    "tienda.actualizar_stock(\"calcetin\", 5)\n",
    "tienda.ver_inventario()"
   ]
  },
  {
   "cell_type": "code",
   "execution_count": 122,
   "metadata": {},
   "outputs": [
    {
     "name": "stdout",
     "output_type": "stream",
     "text": [
      "Nombre: Camisa, Precio: $40, Cantidad: 20\n",
      "Nombre: Camiseta, Precio: $20, Cantidad: 70\n",
      "Nombre: Pantalon, Precio: $35, Cantidad: 40\n",
      "Nombre: Calcetin, Precio: $15, Cantidad: 25\n"
     ]
    }
   ],
   "source": [
    "tienda.eliminar_producto(\"corbata\")\n",
    "tienda.ver_inventario()\n"
   ]
  },
  {
   "cell_type": "code",
   "execution_count": 123,
   "metadata": {},
   "outputs": [
    {
     "name": "stdout",
     "output_type": "stream",
     "text": [
      "Nombre: Camisa, Precio: $40, Cantidad: 20\n",
      "Nombre: Camiseta, Precio: $20, Cantidad: 70\n",
      "Nombre: Pantalon, Precio: $35, Cantidad: 40\n",
      "Nombre: Calcetin, Precio: $15, Cantidad: 25\n",
      "3975.0\n"
     ]
    }
   ],
   "source": [
    "tienda.ver_inventario()\n",
    "tienda.calcular_valor_inventario()"
   ]
  },
  {
   "cell_type": "code",
   "execution_count": 124,
   "metadata": {},
   "outputs": [
    {
     "name": "stdout",
     "output_type": "stream",
     "text": [
      "¡Bienvenid@ a la tienda!. A continuación le mostramos nuestro inventario.\n",
      "Nombre: Camisa, Precio: $40, Cantidad: 20\n",
      "Nombre: Camiseta, Precio: $20, Cantidad: 70\n",
      "Nombre: Pantalon, Precio: $35, Cantidad: 40\n",
      "Nombre: Calcetin, Precio: $15, Cantidad: 25\n",
      "El producto no se ha encontrado en el inventario.\n",
      "Carro Compra: {'camisa': {'nombre': 'camisa', 'cantidad': 1, 'precio': 40}}\n",
      "Valor de la compra: 40.0 \n",
      "Carro Compra: {'camisa': {'nombre': 'camisa', 'cantidad': 1, 'precio': 40}, 'pantalon': {'nombre': 'pantalon', 'cantidad': 1, 'precio': 35}}\n",
      "Valor de la compra: 75.0 \n",
      "Ya has comprado ese producto.\n",
      "Carro Compra: {'camisa': {'nombre': 'camisa', 'cantidad': 1, 'precio': 40}, 'pantalon': {'nombre': 'pantalon', 'cantidad': 1, 'precio': 35}}\n",
      "Valor de la compra: 75.0 \n",
      "Has abandonado el proceso de compra.\n"
     ]
    }
   ],
   "source": [
    "tienda.realizar_compra()"
   ]
  },
  {
   "cell_type": "code",
   "execution_count": 125,
   "metadata": {},
   "outputs": [
    {
     "name": "stdout",
     "output_type": "stream",
     "text": [
      "Nombre: Camisa, Precio: $40, Cantidad: 19\n",
      "Nombre: Camiseta, Precio: $20, Cantidad: 70\n",
      "Nombre: Pantalon, Precio: $35, Cantidad: 39\n",
      "Nombre: Calcetin, Precio: $15, Cantidad: 25\n"
     ]
    }
   ],
   "source": [
    "tienda.ver_inventario()"
   ]
  },
  {
   "cell_type": "code",
   "execution_count": 126,
   "metadata": {},
   "outputs": [
    {
     "name": "stdout",
     "output_type": "stream",
     "text": [
      "Su cambio es $25.0. El pago se ha realizado con éxito. Muchas gracias.\n"
     ]
    }
   ],
   "source": [
    "tienda.procesar_pago()"
   ]
  },
  {
   "cell_type": "code",
   "execution_count": 212,
   "metadata": {},
   "outputs": [],
   "source": [
    "tienda.agregar_cliente(\"Pepe Gotera\", \"pepegotera@email.com\")\n",
    "tienda.agregar_cliente(\"Pablo Marmol\", \"pablomarmol@email.com\")\n",
    "tienda.agregar_cliente(\"vilma picapiedra\", \"vilmapicapiedra@email.com\")"
   ]
  },
  {
   "cell_type": "code",
   "execution_count": 213,
   "metadata": {},
   "outputs": [
    {
     "name": "stdout",
     "output_type": "stream",
     "text": [
      "Nombre: Pepe Gotera, Email: pepegotera@email.com\n",
      "Nombre: Pablo Marmol, Email: pablomarmol@email.com\n",
      "Nombre: Vilma Picapiedra, Email: vilmapicapiedra@email.com\n"
     ]
    }
   ],
   "source": [
    "tienda.ver_clientes()"
   ]
  }
 ],
 "metadata": {
  "kernelspec": {
   "display_name": "base",
   "language": "python",
   "name": "python3"
  },
  "language_info": {
   "codemirror_mode": {
    "name": "ipython",
    "version": 3
   },
   "file_extension": ".py",
   "mimetype": "text/x-python",
   "name": "python",
   "nbconvert_exporter": "python",
   "pygments_lexer": "ipython3",
   "version": "3.12.7"
  }
 },
 "nbformat": 4,
 "nbformat_minor": 2
}
